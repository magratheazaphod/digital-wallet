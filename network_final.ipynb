{
 "cells": [
  {
   "cell_type": "code",
   "execution_count": null,
   "metadata": {
    "collapsed": true
   },
   "outputs": [],
   "source": [
    "## Production version of code for Insight Data Engineers program.\n",
    "\n",
    "# Overall strategy - define module \"account\" which contains a list of \"contacts\"\n",
    "# Contacts are saved as Python dictionary, using account number as key and the \"tier\" level as value\n",
    "# \"tier\" being the shorthand for the number of degrees of separation.\n",
    "# Since Python dictionaries are extremely fast (equivalent to hash tables), should be able to flag transaction fast\n",
    "\n",
    "import pandas as pd\n",
    "import csv"
   ]
  },
  {
   "cell_type": "code",
   "execution_count": null,
   "metadata": {
    "collapsed": true
   },
   "outputs": [],
   "source": [
    "## Paths to data files\n",
    "input_dir = 'paymo_input/'\n",
    "batch_file = 'batch_payment.csv'\n",
    "stream_file = 'stream_payment.csv'\n",
    "batch_path = input_dir + batch_file\n",
    "stream_path = input_dir + stream_file\n",
    "\n",
    "test_file = 'batch_test_2.csv'\n",
    "test_path = input_dir + test_file"
   ]
  },
  {
   "cell_type": "code",
   "execution_count": null,
   "metadata": {
    "collapsed": true
   },
   "outputs": [],
   "source": [
    "## first hurdle - PayMo messages can include commas, and therefore using pandas csv_read fails due to inconsistent number of columns.\n",
    "## current compromise is to use DictReader instead, which truncates Message at first comma\n",
    "## best solution likely involves regular expressions, but not analyzing messages for the time being anyway\n",
    "\n",
    "#takes about 30 seconds to load the 3 million lines each of batch_payment and stream_payment on my macbook pro.\n",
    "\n",
    "batch_dict = {}\n",
    "batch_dict['time'] = {}\n",
    "batch_dict['id1'] = {}\n",
    "batch_dict['id2'] = {}\n",
    "batch_dict['amount'] = {}\n",
    "batch_dict['message'] = {}\n",
    "\n",
    "with open(batch_path) as csvfile:\n",
    "    reader = csv.DictReader(csvfile)\n",
    "    for i, row in enumerate(reader):\n",
    "        batch_dict['time'][i] = row['time']\n",
    "        batch_dict['id1'][i] = row[' id1']\n",
    "        batch_dict['id2'][i] = row[' id2']\n",
    "        batch_dict['amount'][i] = row[' amount']\n",
    "        batch_dict['message'][i] = row[' message']\n",
    "        \n",
    "df_batch = pd.DataFrame.from_dict(batch_dict)"
   ]
  },
  {
   "cell_type": "code",
   "execution_count": null,
   "metadata": {
    "collapsed": true
   },
   "outputs": [],
   "source": [
    "## repeat the above - load in data from stream_payment and turn into pandas dataframe.\n",
    "stream_dict = {}\n",
    "stream_dict['time'] = {}\n",
    "stream_dict['id1'] = {}\n",
    "stream_dict['id2'] = {}\n",
    "stream_dict['amount'] = {}\n",
    "stream_dict['message'] = {}\n",
    "\n",
    "with open(stream_path) as csvfile:\n",
    "    reader = csv.DictReader(csvfile)\n",
    "    for i, row in enumerate(reader):\n",
    "        stream_dict['time'][i] = row['time']\n",
    "        stream_dict['id1'][i] = row[' id1']\n",
    "        stream_dict['id2'][i] = row[' id2']\n",
    "        stream_dict['amount'][i] = row[' amount']\n",
    "        stream_dict['message'][i] = row[' message']\n",
    "        \n",
    "df_stream = pd.DataFrame.from_dict(stream_dict)"
   ]
  },
  {
   "cell_type": "code",
   "execution_count": null,
   "metadata": {
    "collapsed": true
   },
   "outputs": [],
   "source": [
    "#dictionary columns are randomly ordered - reorder as expected\n",
    "df_batch = df_batch[['time','id1','id2','amount','message']]\n",
    "df_stream = df_stream[['time','id1','id2','amount','message']]"
   ]
  }
 ],
 "metadata": {
  "kernelspec": {
   "display_name": "Python 3",
   "language": "python",
   "name": "python3"
  },
  "language_info": {
   "codemirror_mode": {
    "name": "ipython",
    "version": 3
   },
   "file_extension": ".py",
   "mimetype": "text/x-python",
   "name": "python",
   "nbconvert_exporter": "python",
   "pygments_lexer": "ipython3",
   "version": "3.5.2"
  }
 },
 "nbformat": 4,
 "nbformat_minor": 0
}
