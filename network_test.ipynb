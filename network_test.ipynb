{
 "cells": [
  {
   "cell_type": "code",
   "execution_count": 63,
   "metadata": {
    "collapsed": false
   },
   "outputs": [
    {
     "name": "stderr",
     "output_type": "stream",
     "text": [
      "//anaconda/lib/python3.5/site-packages/IPython/core/magics/extension.py:47: UserWarning: %install_ext` is deprecated, please distribute your extension as a python package.\n",
      "  \"as a python package.\", UserWarning)\n"
     ]
    },
    {
     "name": "stdout",
     "output_type": "stream",
     "text": [
      "Installed autotime.py. To use it, type:\n",
      "  %load_ext autotime\n"
     ]
    }
   ],
   "source": [
    "import pandas as pd\n",
    "import re\n",
    "import csv\n",
    "import time\n",
    "import numpy as np\n",
    "%install_ext https://raw.github.com/cpcloud/ipython-autotime/master/autotime.py\n",
    "%load_ext autotime"
   ]
  },
  {
   "cell_type": "code",
   "execution_count": 3,
   "metadata": {
    "collapsed": false
   },
   "outputs": [],
   "source": [
    "input_dir = 'paymo_input/'\n",
    "batch_file = 'batch_payment.csv'\n",
    "stream_file = 'stream_payment.csv'\n",
    "batch_path = input_dir + batch_file\n",
    "stream_path = input_dir + stream_file\n",
    "\n",
    "test_file = 'batch_test_2.csv'\n",
    "test_path = input_dir + test_file"
   ]
  },
  {
   "cell_type": "code",
   "execution_count": 4,
   "metadata": {
    "collapsed": false
   },
   "outputs": [],
   "source": [
    "batch_dict = {}\n",
    "batch_dict['time'] = {}\n",
    "batch_dict['id1'] = {}\n",
    "batch_dict['id2'] = {}\n",
    "batch_dict['amount'] = {}\n",
    "batch_dict['message'] = {}\n",
    "\n",
    "with open(batch_path, newline='') as csvfile:\n",
    "    reader = csv.DictReader(csvfile)\n",
    "    for i, row in enumerate(reader):\n",
    "        batch_dict['time'][i] = row['time']\n",
    "        batch_dict['id1'][i] = row[' id1']\n",
    "        batch_dict['id2'][i] = row[' id2']\n",
    "        batch_dict['amount'][i] = row[' amount']\n",
    "        batch_dict['message'][i] = row[' message']\n",
    "        \n",
    "df_batch = pd.DataFrame.from_dict(batch_dict)"
   ]
  },
  {
   "cell_type": "code",
   "execution_count": 5,
   "metadata": {
    "collapsed": true
   },
   "outputs": [],
   "source": [
    "stream_dict = {}\n",
    "stream_dict['time'] = {}\n",
    "stream_dict['id1'] = {}\n",
    "stream_dict['id2'] = {}\n",
    "stream_dict['amount'] = {}\n",
    "stream_dict['message'] = {}\n",
    "\n",
    "with open(stream_path, newline='') as csvfile:\n",
    "    reader = csv.DictReader(csvfile)\n",
    "    for i, row in enumerate(reader):\n",
    "        stream_dict['time'][i] = row['time']\n",
    "        stream_dict['id1'][i] = row[' id1']\n",
    "        stream_dict['id2'][i] = row[' id2']\n",
    "        stream_dict['amount'][i] = row[' amount']\n",
    "        stream_dict['message'][i] = row[' message']\n",
    "        \n",
    "df_stream = pd.DataFrame.from_dict(stream_dict)"
   ]
  },
  {
   "cell_type": "code",
   "execution_count": 6,
   "metadata": {
    "collapsed": false
   },
   "outputs": [
    {
     "data": {
      "text/plain": [
       "' 🇨🇴🇨🇴🇨🇴🇨🇴👍🏼🎉 '"
      ]
     },
     "execution_count": 6,
     "metadata": {},
     "output_type": "execute_result"
    }
   ],
   "source": [
    "## BIG PROBLEM - SKIPPED OVER A BUNCH OF ENTRIES\n",
    "batch_dict['message'][377592]\n",
    "#print(len(batch_dict['message'].keys()))"
   ]
  },
  {
   "cell_type": "code",
   "execution_count": 7,
   "metadata": {
    "collapsed": false
   },
   "outputs": [],
   "source": [
    "#dictionary columns are randomly ordered - reorder as expected\n",
    "df_batch = df_batch[['time','id1','id2','amount','message']]\n",
    "df_stream = df_stream[['time','id1','id2','amount','message']]"
   ]
  },
  {
   "cell_type": "code",
   "execution_count": 8,
   "metadata": {
    "collapsed": false
   },
   "outputs": [
    {
     "data": {
      "text/html": [
       "<div>\n",
       "<table border=\"1\" class=\"dataframe\">\n",
       "  <thead>\n",
       "    <tr style=\"text-align: right;\">\n",
       "      <th></th>\n",
       "      <th>time</th>\n",
       "      <th>id1</th>\n",
       "      <th>id2</th>\n",
       "      <th>amount</th>\n",
       "      <th>message</th>\n",
       "    </tr>\n",
       "  </thead>\n",
       "  <tbody>\n",
       "    <tr>\n",
       "      <th>3934578</th>\n",
       "      <td>2016-11-02 09:49:29</td>\n",
       "      <td>20942</td>\n",
       "      <td>826</td>\n",
       "      <td>39.40</td>\n",
       "      <td>🍻🍾🍷</td>\n",
       "    </tr>\n",
       "    <tr>\n",
       "      <th>3934579</th>\n",
       "      <td>2016-11-02 09:49:29</td>\n",
       "      <td>2464</td>\n",
       "      <td>2425</td>\n",
       "      <td>6.03</td>\n",
       "      <td>Taco tuesday</td>\n",
       "    </tr>\n",
       "    <tr>\n",
       "      <th>3934580</th>\n",
       "      <td>2016-11-02 09:49:29</td>\n",
       "      <td>68862</td>\n",
       "      <td>25922</td>\n",
       "      <td>22.48</td>\n",
       "      <td>Comcast</td>\n",
       "    </tr>\n",
       "    <tr>\n",
       "      <th>3934581</th>\n",
       "      <td>2016-11-02 09:49:29</td>\n",
       "      <td>66910</td>\n",
       "      <td>21661</td>\n",
       "      <td>21.28</td>\n",
       "      <td>Signs</td>\n",
       "    </tr>\n",
       "    <tr>\n",
       "      <th>3934582</th>\n",
       "      <td>2016-11-02 09:49:29</td>\n",
       "      <td>64593</td>\n",
       "      <td>18179</td>\n",
       "      <td>31.57</td>\n",
       "      <td>blue kiwi</td>\n",
       "    </tr>\n",
       "  </tbody>\n",
       "</table>\n",
       "</div>"
      ],
      "text/plain": [
       "                        time     id1     id2  amount         message\n",
       "3934578  2016-11-02 09:49:29   20942     826   39.40            🍻🍾🍷 \n",
       "3934579  2016-11-02 09:49:29    2464    2425    6.03   Taco tuesday \n",
       "3934580  2016-11-02 09:49:29   68862   25922   22.48        Comcast \n",
       "3934581  2016-11-02 09:49:29   66910   21661   21.28          Signs \n",
       "3934582  2016-11-02 09:49:29   64593   18179   31.57      blue kiwi "
      ]
     },
     "execution_count": 8,
     "metadata": {},
     "output_type": "execute_result"
    }
   ],
   "source": [
    "df_batch.tail()"
   ]
  },
  {
   "cell_type": "code",
   "execution_count": 9,
   "metadata": {
    "collapsed": false
   },
   "outputs": [],
   "source": [
    "givers = df_batch.groupby('id1')\n",
    "receivers = df_batch.groupby('id2')\n",
    "partners_1 = {}\n",
    "partners_2 = {}"
   ]
  },
  {
   "cell_type": "code",
   "execution_count": 93,
   "metadata": {
    "collapsed": false
   },
   "outputs": [
    {
     "name": "stdout",
     "output_type": "stream",
     "text": [
      "Skipping invalid key:  no. Even if the union were a matter of economic indifference\n",
      "Skipping invalid key:  and even if it were to be disadvantageous from the economic standpoint\n",
      "time: 1min 33s\n"
     ]
    }
   ],
   "source": [
    "## find all transactions where user <user_id> was giver, then find list of partners in those transactions\n",
    "for user_id,transactions in givers:\n",
    "    \n",
    "    #store list of all transaction partners as list (easiest type to extend later)\n",
    "    try:\n",
    "        partners_1[int(user_id)] = list(givers.get_group(user_id)['id2'].astype(int))\n",
    "   \n",
    "    #some lines of batch_payment.txt and stream_payment.txt are off - omit malformed entries\n",
    "    except (KeyError, ValueError) as BadLine:\n",
    "        print(\"Skipping invalid key:\",user_id)\n",
    "    \n",
    "## same as before for all transactions where <user_id> was receiver\n",
    "for user_id,transactions in receivers:\n",
    "    \n",
    "    #store list of all transaction partners as list (easiest type to extend later)\n",
    "    try: \n",
    "        partners_2[int(user_id)] = list(receivers.get_group(user_id)['id1'].astype(int))\n",
    "        \n",
    "    #some lines of batch_payment.txt and stream_payment.txt are off - omit malformed entries\n",
    "    except (KeyError, ValueError) as BadLine:\n",
    "        print(\"Skipping invalid key:\",user_id)"
   ]
  },
  {
   "cell_type": "code",
   "execution_count": 98,
   "metadata": {
    "collapsed": false
   },
   "outputs": [
    {
     "name": "stdout",
     "output_type": "stream",
     "text": [
      "(77360,)\n",
      "(77336,)\n",
      "(77360,)\n",
      "time: 24.1 ms\n"
     ]
    }
   ],
   "source": [
    "## it's possible that some users only show up as givers and others only as receivers - combine to master list of all IDs\n",
    "## in actuality for the provided batch_payment.txt all users show up as givers at least once, but not safe to assume\n",
    "user_list_1 = np.array(list(partners_1.keys()))\n",
    "user_list_2 = np.array(list(partners_2.keys()))\n",
    "user_list = np.unique(np.concatenate([user_list_1,user_list_2]))"
   ]
  },
  {
   "cell_type": "code",
   "execution_count": 106,
   "metadata": {
    "collapsed": false
   },
   "outputs": [
    {
     "name": "stdout",
     "output_type": "stream",
     "text": [
      "time: 1.78 s\n"
     ]
    }
   ],
   "source": [
    "partners = {}\n",
    "\n",
    "#cycle through all users and agglomerate partners from all transactions\n",
    "for user_id in user_list:\n",
    "    \n",
    "    pp = []\n",
    "    \n",
    "    if user_id in partners_1.keys():\n",
    "        pp += partners_1[user_id]\n",
    "        \n",
    "    if user_id in partners_2.keys():\n",
    "        pp += partners_2[user_id]\n",
    "        \n",
    "    #reduce to (sorted) list of all unique partners\n",
    "    partners[user_id] = np.unique(pp)"
   ]
  },
  {
   "cell_type": "code",
   "execution_count": 113,
   "metadata": {
    "collapsed": false
   },
   "outputs": [
    {
     "data": {
      "text/plain": [
       "77360"
      ]
     },
     "execution_count": 113,
     "metadata": {},
     "output_type": "execute_result"
    },
    {
     "name": "stdout",
     "output_type": "stream",
     "text": [
      "time: 1.86 ms\n"
     ]
    }
   ],
   "source": [
    "len(partners.keys())"
   ]
  },
  {
   "cell_type": "code",
   "execution_count": 79,
   "metadata": {
    "collapsed": false
   },
   "outputs": [
    {
     "name": "stdout",
     "output_type": "stream",
     "text": [
      "1\n",
      "time: 949 µs\n"
     ]
    }
   ],
   "source": [
    "if 10000 in partners_1.keys():\n",
    "    print(1)"
   ]
  },
  {
   "cell_type": "code",
   "execution_count": 69,
   "metadata": {
    "collapsed": false
   },
   "outputs": [
    {
     "name": "stdout",
     "output_type": "stream",
     "text": [
      "time: 1.08 ms\n"
     ]
    }
   ],
   "source": [
    "    #merge into single list, use .unique() to weed out duplicates\n",
    "    #stations = pd.concat([start_stations, end_stations], axis=0, ignore_index = True)\n",
    "    #unique_stations = stations.unique()\n",
    "    #visited_stations[k] = len(unique_stations)\n",
    "    #partners[user] = "
   ]
  },
  {
   "cell_type": "code",
   "execution_count": null,
   "metadata": {
    "collapsed": true
   },
   "outputs": [],
   "source": [
    "users = df.groupby('id1')\n",
    "\n",
    "#store the number of visited stations in dictionary format, using each bikeid as key\n",
    "visited_stations = {}\n",
    "\n",
    "for k,v in bikes:\n",
    "    #following gets list of start and end stations visited by each bike\n",
    "    start_stations = bikes.get_group(k)['start station id']\n",
    "    end_stations = bikes.get_group(k)['end station id']\n",
    "    \n",
    "    #merge into single list, use .unique() to weed out duplicates\n",
    "    stations = pd.concat([start_stations, end_stations], axis=0, ignore_index = True)\n",
    "    unique_stations = stations.unique()\n",
    "    visited_stations[k] = len(unique_stations)"
   ]
  }
 ],
 "metadata": {
  "kernelspec": {
   "display_name": "Python 3",
   "language": "python",
   "name": "python3"
  },
  "language_info": {
   "codemirror_mode": {
    "name": "ipython",
    "version": 3
   },
   "file_extension": ".py",
   "mimetype": "text/x-python",
   "name": "python",
   "nbconvert_exporter": "python",
   "pygments_lexer": "ipython3",
   "version": "3.5.2"
  }
 },
 "nbformat": 4,
 "nbformat_minor": 0
}
