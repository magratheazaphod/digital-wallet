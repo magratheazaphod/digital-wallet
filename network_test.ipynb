{
 "cells": [
  {
   "cell_type": "code",
   "execution_count": 1,
   "metadata": {
    "collapsed": false
   },
   "outputs": [
    {
     "name": "stderr",
     "output_type": "stream",
     "text": [
      "//anaconda/lib/python3.5/site-packages/IPython/core/magics/extension.py:47: UserWarning: %install_ext` is deprecated, please distribute your extension as a python package.\n",
      "  \"as a python package.\", UserWarning)\n"
     ]
    },
    {
     "name": "stdout",
     "output_type": "stream",
     "text": [
      "Installed autotime.py. To use it, type:\n",
      "  %load_ext autotime\n"
     ]
    }
   ],
   "source": [
    "import pandas as pd\n",
    "import re\n",
    "import csv\n",
    "import time\n",
    "import numpy as np\n",
    "%install_ext https://raw.github.com/cpcloud/ipython-autotime/master/autotime.py\n",
    "%load_ext autotime\n",
    "from user_class import User, find_new_friends\n",
    "from itertools import compress"
   ]
  },
  {
   "cell_type": "code",
   "execution_count": 2,
   "metadata": {
    "collapsed": false
   },
   "outputs": [
    {
     "name": "stdout",
     "output_type": "stream",
     "text": [
      "time: 2.52 ms\n"
     ]
    }
   ],
   "source": [
    "input_dir = 'paymo_input/'\n",
    "batch_file = 'batch_payment.csv'\n",
    "stream_file = 'stream_payment.csv'\n",
    "batch_path = input_dir + batch_file\n",
    "stream_path = input_dir + stream_file\n",
    "\n",
    "test_file = 'batch_test_2.csv'\n",
    "test_path = input_dir + test_file"
   ]
  },
  {
   "cell_type": "code",
   "execution_count": 3,
   "metadata": {
    "collapsed": false
   },
   "outputs": [
    {
     "name": "stdout",
     "output_type": "stream",
     "text": [
      "time: 29 s\n"
     ]
    }
   ],
   "source": [
    "batch_dict = {}\n",
    "batch_dict['time'] = {}\n",
    "batch_dict['id1'] = {}\n",
    "batch_dict['id2'] = {}\n",
    "batch_dict['amount'] = {}\n",
    "batch_dict['message'] = {}\n",
    "\n",
    "with open(batch_path, newline='') as csvfile:\n",
    "    reader = csv.DictReader(csvfile)\n",
    "    for i, row in enumerate(reader):\n",
    "        batch_dict['time'][i] = row['time']\n",
    "        batch_dict['id1'][i] = row[' id1']\n",
    "        batch_dict['id2'][i] = row[' id2']\n",
    "        batch_dict['amount'][i] = row[' amount']\n",
    "        batch_dict['message'][i] = row[' message']\n",
    "        \n",
    "df_batch = pd.DataFrame.from_dict(batch_dict)"
   ]
  },
  {
   "cell_type": "code",
   "execution_count": 4,
   "metadata": {
    "collapsed": false
   },
   "outputs": [
    {
     "name": "stdout",
     "output_type": "stream",
     "text": [
      "time: 21.1 s\n"
     ]
    }
   ],
   "source": [
    "stream_dict = {}\n",
    "stream_dict['time'] = {}\n",
    "stream_dict['id1'] = {}\n",
    "stream_dict['id2'] = {}\n",
    "stream_dict['amount'] = {}\n",
    "stream_dict['message'] = {}\n",
    "\n",
    "with open(stream_path, newline='') as csvfile:\n",
    "    reader = csv.DictReader(csvfile)\n",
    "    for i, row in enumerate(reader):\n",
    "        stream_dict['time'][i] = row['time']\n",
    "        stream_dict['id1'][i] = row[' id1']\n",
    "        stream_dict['id2'][i] = row[' id2']\n",
    "        stream_dict['amount'][i] = row[' amount']\n",
    "        stream_dict['message'][i] = row[' message']\n",
    "        \n",
    "df_stream = pd.DataFrame.from_dict(stream_dict)"
   ]
  },
  {
   "cell_type": "code",
   "execution_count": 6,
   "metadata": {
    "collapsed": false
   },
   "outputs": [
    {
     "data": {
      "text/plain": [
       "' 🇨🇴🇨🇴🇨🇴🇨🇴👍🏼🎉 '"
      ]
     },
     "execution_count": 6,
     "metadata": {},
     "output_type": "execute_result"
    }
   ],
   "source": [
    "## BIG PROBLEM - SKIPPED OVER A BUNCH OF ENTRIES\n",
    "batch_dict['message'][377592]\n",
    "#print(len(batch_dict['message'].keys()))"
   ]
  },
  {
   "cell_type": "code",
   "execution_count": 4,
   "metadata": {
    "collapsed": false
   },
   "outputs": [
    {
     "name": "stdout",
     "output_type": "stream",
     "text": [
      "time: 332 ms\n"
     ]
    }
   ],
   "source": [
    "#dictionary columns are randomly ordered - reorder as expected\n",
    "df_batch = df_batch[['time','id1','id2','amount','message']]\n",
    "#df_stream = df_stream[['time','id1','id2','amount','message']]"
   ]
  },
  {
   "cell_type": "code",
   "execution_count": 8,
   "metadata": {
    "collapsed": false
   },
   "outputs": [
    {
     "data": {
      "text/html": [
       "<div>\n",
       "<table border=\"1\" class=\"dataframe\">\n",
       "  <thead>\n",
       "    <tr style=\"text-align: right;\">\n",
       "      <th></th>\n",
       "      <th>time</th>\n",
       "      <th>id1</th>\n",
       "      <th>id2</th>\n",
       "      <th>amount</th>\n",
       "      <th>message</th>\n",
       "    </tr>\n",
       "  </thead>\n",
       "  <tbody>\n",
       "    <tr>\n",
       "      <th>3934578</th>\n",
       "      <td>2016-11-02 09:49:29</td>\n",
       "      <td>20942</td>\n",
       "      <td>826</td>\n",
       "      <td>39.40</td>\n",
       "      <td>🍻🍾🍷</td>\n",
       "    </tr>\n",
       "    <tr>\n",
       "      <th>3934579</th>\n",
       "      <td>2016-11-02 09:49:29</td>\n",
       "      <td>2464</td>\n",
       "      <td>2425</td>\n",
       "      <td>6.03</td>\n",
       "      <td>Taco tuesday</td>\n",
       "    </tr>\n",
       "    <tr>\n",
       "      <th>3934580</th>\n",
       "      <td>2016-11-02 09:49:29</td>\n",
       "      <td>68862</td>\n",
       "      <td>25922</td>\n",
       "      <td>22.48</td>\n",
       "      <td>Comcast</td>\n",
       "    </tr>\n",
       "    <tr>\n",
       "      <th>3934581</th>\n",
       "      <td>2016-11-02 09:49:29</td>\n",
       "      <td>66910</td>\n",
       "      <td>21661</td>\n",
       "      <td>21.28</td>\n",
       "      <td>Signs</td>\n",
       "    </tr>\n",
       "    <tr>\n",
       "      <th>3934582</th>\n",
       "      <td>2016-11-02 09:49:29</td>\n",
       "      <td>64593</td>\n",
       "      <td>18179</td>\n",
       "      <td>31.57</td>\n",
       "      <td>blue kiwi</td>\n",
       "    </tr>\n",
       "  </tbody>\n",
       "</table>\n",
       "</div>"
      ],
      "text/plain": [
       "                        time     id1     id2  amount         message\n",
       "3934578  2016-11-02 09:49:29   20942     826   39.40            🍻🍾🍷 \n",
       "3934579  2016-11-02 09:49:29    2464    2425    6.03   Taco tuesday \n",
       "3934580  2016-11-02 09:49:29   68862   25922   22.48        Comcast \n",
       "3934581  2016-11-02 09:49:29   66910   21661   21.28          Signs \n",
       "3934582  2016-11-02 09:49:29   64593   18179   31.57      blue kiwi "
      ]
     },
     "execution_count": 8,
     "metadata": {},
     "output_type": "execute_result"
    }
   ],
   "source": [
    "df_batch.tail()"
   ]
  },
  {
   "cell_type": "code",
   "execution_count": 5,
   "metadata": {
    "collapsed": false
   },
   "outputs": [
    {
     "name": "stdout",
     "output_type": "stream",
     "text": [
      "time: 1.73 ms\n"
     ]
    }
   ],
   "source": [
    "givers = df_batch.groupby('id1')\n",
    "receivers = df_batch.groupby('id2')\n",
    "partners_1 = {}\n",
    "partners_2 = {}"
   ]
  },
  {
   "cell_type": "code",
   "execution_count": 6,
   "metadata": {
    "collapsed": false
   },
   "outputs": [
    {
     "name": "stdout",
     "output_type": "stream",
     "text": [
      "Skipping invalid key:  no. Even if the union were a matter of economic indifference\n",
      "Skipping invalid key:  and even if it were to be disadvantageous from the economic standpoint\n",
      "time: 1min 38s\n"
     ]
    }
   ],
   "source": [
    "## find all transactions where user <user_id> was giver, then find list of partners in those transactions\n",
    "for user_id,transactions in givers:\n",
    "    \n",
    "    #store list of all transaction partners as list (easiest type to extend later)\n",
    "    try:\n",
    "        partners_1[int(user_id)] = list(givers.get_group(user_id)['id2'].astype(int))\n",
    "   \n",
    "    #some lines of batch_payment.txt and stream_payment.txt are off - omit malformed entries\n",
    "    except (KeyError, ValueError) as BadLine:\n",
    "        print(\"Skipping invalid key:\",user_id)\n",
    "    \n",
    "## same as before for all transactions where <user_id> was receiver\n",
    "for user_id,transactions in receivers:\n",
    "    \n",
    "    #store list of all transaction partners as list (easiest type to extend later)\n",
    "    try: \n",
    "        partners_2[int(user_id)] = list(receivers.get_group(user_id)['id1'].astype(int))\n",
    "        \n",
    "    #some lines of batch_payment.txt and stream_payment.txt are off - omit malformed entries\n",
    "    except (KeyError, ValueError) as BadLine:\n",
    "        print(\"Skipping invalid key:\",user_id)"
   ]
  },
  {
   "cell_type": "code",
   "execution_count": 7,
   "metadata": {
    "collapsed": false
   },
   "outputs": [
    {
     "name": "stdout",
     "output_type": "stream",
     "text": [
      "time: 23.5 ms\n"
     ]
    }
   ],
   "source": [
    "## it's possible that some users only show up as givers and others only as receivers - combine to master list of all IDs\n",
    "## in actuality for the provided batch_payment.txt all users show up as givers at least once, but not safe to assume\n",
    "user_list_1 = np.array(list(partners_1.keys()))\n",
    "user_list_2 = np.array(list(partners_2.keys()))\n",
    "user_list = np.unique(np.concatenate([user_list_1,user_list_2]))"
   ]
  },
  {
   "cell_type": "code",
   "execution_count": 8,
   "metadata": {
    "collapsed": false
   },
   "outputs": [
    {
     "name": "stdout",
     "output_type": "stream",
     "text": [
      "time: 2.4 s\n"
     ]
    }
   ],
   "source": [
    "user_master_list = {}\n",
    "\n",
    "#cycle through all users and agglomerate partners from all transactions\n",
    "#conversion back and forth between list and numpy array is pretty fast\n",
    "#lists easier to append to, hence why stored as list, but also wanted to use numpy.unique function.\n",
    "for user_id in user_list:\n",
    "    \n",
    "    pp = []\n",
    "    \n",
    "    if user_id in partners_1.keys():\n",
    "        pp += partners_1[user_id]\n",
    "        \n",
    "    if user_id in partners_2.keys():\n",
    "        pp += partners_2[user_id]\n",
    "        \n",
    "    #reduce to (sorted) list of all unique partners\n",
    "    user_master_list[user_id] = User(user_id, list(np.unique(pp)))"
   ]
  },
  {
   "cell_type": "code",
   "execution_count": 10,
   "metadata": {
    "collapsed": false
   },
   "outputs": [
    {
     "name": "stdout",
     "output_type": "stream",
     "text": [
      "Building lists of connections of degree 2 for each user...\n",
      "time: 8.75 s\n"
     ]
    }
   ],
   "source": [
    "## use the find_new_friends function (stored in user_class.py) to supplement friend tiers down to level of interest\n",
    "#creating lists of friends down to 4th-degree connections takes about two minutes for 70,000 users on my macbook pro.\n",
    "tier_depth = 4\n",
    "\n",
    "#successively add tiers of friendship to every user in user_master_list\n",
    "for tier in range(2,tier_depth+1):\n",
    "    print(\"Building lists of connections of degree\", tier, \"for each user...\")\n",
    "    for user_id, user_info in user_master_list.items():\n",
    "        user_info.friends[tier] = find_new_friends(user_master_list,user_info,tier)\n",
    "        \n",
    "print(\"Done. Connections of degree n accessible via User.friends[n]\")"
   ]
  },
  {
   "cell_type": "code",
   "execution_count": 36,
   "metadata": {
    "collapsed": false
   },
   "outputs": [
    {
     "name": "stdout",
     "output_type": "stream",
     "text": [
      "time: 1min 27s\n"
     ]
    }
   ],
   "source": [
    "for user_id, user_info in user_master_list.items():\n",
    "    user_info.friends[4] = find_new_friends(user_info,4)"
   ]
  },
  {
   "cell_type": "code",
   "execution_count": 34,
   "metadata": {
    "collapsed": false
   },
   "outputs": [
    {
     "data": {
      "text/plain": [
       "[3,\n",
       " 15,\n",
       " 17,\n",
       " 25,\n",
       " 46,\n",
       " 57,\n",
       " 84,\n",
       " 89,\n",
       " 91,\n",
       " 92,\n",
       " 95,\n",
       " 111,\n",
       " 125,\n",
       " 140,\n",
       " 143,\n",
       " 145,\n",
       " 147,\n",
       " 165,\n",
       " 166,\n",
       " 167,\n",
       " 176,\n",
       " 177,\n",
       " 182,\n",
       " 184,\n",
       " 209,\n",
       " 239,\n",
       " 272,\n",
       " 282,\n",
       " 283,\n",
       " 376,\n",
       " 395,\n",
       " 398,\n",
       " 468,\n",
       " 505,\n",
       " 510,\n",
       " 576,\n",
       " 625,\n",
       " 647,\n",
       " 653,\n",
       " 699,\n",
       " 710,\n",
       " 729,\n",
       " 818,\n",
       " 837,\n",
       " 913,\n",
       " 923,\n",
       " 996,\n",
       " 1026,\n",
       " 1042,\n",
       " 1091,\n",
       " 1224,\n",
       " 1270,\n",
       " 1361,\n",
       " 1367,\n",
       " 1373,\n",
       " 1477,\n",
       " 1560,\n",
       " 1569,\n",
       " 1699,\n",
       " 1900,\n",
       " 1902,\n",
       " 1912,\n",
       " 1938,\n",
       " 2031,\n",
       " 2077,\n",
       " 2128,\n",
       " 2138,\n",
       " 2230,\n",
       " 2319,\n",
       " 2358,\n",
       " 2366,\n",
       " 2384,\n",
       " 2483,\n",
       " 2511,\n",
       " 2529,\n",
       " 2553,\n",
       " 2571,\n",
       " 2581,\n",
       " 2588,\n",
       " 2721,\n",
       " 2811,\n",
       " 2938,\n",
       " 2961,\n",
       " 3450,\n",
       " 3451,\n",
       " 3540,\n",
       " 3827,\n",
       " 3940,\n",
       " 4111,\n",
       " 4260,\n",
       " 4366,\n",
       " 4660,\n",
       " 4661,\n",
       " 4662,\n",
       " 4663,\n",
       " 4664,\n",
       " 4665,\n",
       " 4666,\n",
       " 4667,\n",
       " 4669,\n",
       " 4670,\n",
       " 4671,\n",
       " 4672,\n",
       " 4673,\n",
       " 4674,\n",
       " 4676,\n",
       " 4677,\n",
       " 4678,\n",
       " 4679,\n",
       " 4680,\n",
       " 4681,\n",
       " 4682,\n",
       " 4683,\n",
       " 4684,\n",
       " 4685,\n",
       " 4686,\n",
       " 4687,\n",
       " 4688,\n",
       " 4689,\n",
       " 4690,\n",
       " 4691,\n",
       " 4692,\n",
       " 4693,\n",
       " 4694,\n",
       " 4695,\n",
       " 4696,\n",
       " 4697,\n",
       " 4698,\n",
       " 4699,\n",
       " 4700,\n",
       " 4701,\n",
       " 4702,\n",
       " 4703,\n",
       " 4704,\n",
       " 4705,\n",
       " 4706,\n",
       " 4707,\n",
       " 4708,\n",
       " 4709,\n",
       " 4710,\n",
       " 4711,\n",
       " 4712,\n",
       " 4713,\n",
       " 4714,\n",
       " 4715,\n",
       " 4717,\n",
       " 4718,\n",
       " 4719,\n",
       " 4720,\n",
       " 4721,\n",
       " 4722,\n",
       " 4723,\n",
       " 4724,\n",
       " 4725,\n",
       " 4726,\n",
       " 4727,\n",
       " 4728,\n",
       " 4730,\n",
       " 4731,\n",
       " 4732,\n",
       " 4733,\n",
       " 4734,\n",
       " 4735,\n",
       " 4736,\n",
       " 4737,\n",
       " 4738,\n",
       " 4739,\n",
       " 4740,\n",
       " 4741,\n",
       " 4742,\n",
       " 4743,\n",
       " 4744,\n",
       " 4745,\n",
       " 4746,\n",
       " 4747,\n",
       " 4748,\n",
       " 4749,\n",
       " 4750,\n",
       " 4751,\n",
       " 4752,\n",
       " 4753,\n",
       " 4754,\n",
       " 4755,\n",
       " 4756,\n",
       " 4757,\n",
       " 4758,\n",
       " 4759,\n",
       " 4760,\n",
       " 4761,\n",
       " 4762,\n",
       " 4763,\n",
       " 4764,\n",
       " 4765,\n",
       " 4766,\n",
       " 4767,\n",
       " 4768,\n",
       " 4769,\n",
       " 4770,\n",
       " 4771,\n",
       " 4772,\n",
       " 4773,\n",
       " 4774,\n",
       " 5202,\n",
       " 5559,\n",
       " 5840,\n",
       " 7844,\n",
       " 7898,\n",
       " 7909,\n",
       " 8080,\n",
       " 10221,\n",
       " 10289,\n",
       " 13954,\n",
       " 15579,\n",
       " 16731,\n",
       " 16889,\n",
       " 18475,\n",
       " 22133,\n",
       " 23803,\n",
       " 29304,\n",
       " 31751,\n",
       " 43029,\n",
       " 46142]"
      ]
     },
     "execution_count": 34,
     "metadata": {},
     "output_type": "execute_result"
    },
    {
     "name": "stdout",
     "output_type": "stream",
     "text": [
      "time: 6.6 ms\n"
     ]
    }
   ],
   "source": [
    "user_master_list[4].friends[2]"
   ]
  },
  {
   "cell_type": "code",
   "execution_count": 17,
   "metadata": {
    "collapsed": false
   },
   "outputs": [
    {
     "name": "stdout",
     "output_type": "stream",
     "text": [
      "time: 1.27 ms\n"
     ]
    }
   ],
   "source": [
    "user_master_list[0].friends[2] = find_new_friends(user_master_list[5],2)"
   ]
  },
  {
   "cell_type": "code",
   "execution_count": 50,
   "metadata": {
    "collapsed": false
   },
   "outputs": [
    {
     "data": {
      "text/plain": [
       "dict"
      ]
     },
     "execution_count": 50,
     "metadata": {},
     "output_type": "execute_result"
    },
    {
     "name": "stdout",
     "output_type": "stream",
     "text": [
      "time: 1.91 ms\n"
     ]
    }
   ],
   "source": [
    "type(users_master_list[5].friends)"
   ]
  },
  {
   "cell_type": "code",
   "execution_count": 52,
   "metadata": {
    "collapsed": false
   },
   "outputs": [
    {
     "name": "stdout",
     "output_type": "stream",
     "text": [
      "1\n",
      "[0, 4730, 4920, 4921, 67513]\n",
      "2\n",
      "[3, 17, 57, 89, 91, 92, 125, 145, 147, 151, 166, 167, 177, 184, 209, 217, 225, 282, 283, 376, 468, 625, 653, 699, 710, 729, 913, 1026, 1091, 1224, 1361, 1373, 1477, 1560, 1569, 1900, 2230, 2358, 2366, 2384, 2490, 2511, 2529, 2553, 2721, 2811, 2938, 2961, 3450, 3451, 3540, 3827, 3940, 4111, 4260, 4366, 4660, 4661, 4662, 4663, 4664, 4665, 4666, 4667, 4668, 4669, 4670, 4671, 4672, 4673, 4674, 4675, 4676, 4677, 4678, 4679, 4680, 4681, 4682, 4683, 4684, 4685, 4686, 4687, 4688, 4689, 4690, 4691, 4692, 4693, 4694, 4695, 4696, 4697, 4698, 4699, 4700, 4701, 4702, 4703, 4704, 4705, 4706, 4707, 4708, 4709, 4710, 4711, 4712, 4713, 4714, 4715, 4716, 4717, 4718, 4719, 4720, 4721, 4722, 4723, 4724, 4725, 4726, 4727, 4728, 4729, 4731, 4732, 4733, 4734, 4735, 4736, 4737, 4738, 4739, 4740, 4741, 4742, 4743, 4744, 4745, 4746, 4747, 4748, 4749, 4750, 4751, 4752, 4753, 4754, 4755, 4756, 4757, 4758, 4759, 4760, 4761, 4762, 4763, 4764, 4765, 4766, 4767, 4768, 4769, 4770, 4771, 4772, 5559, 5840, 7844, 7898, 7909, 10221, 10289, 13954, 16731, 16889, 22133, 23803, 29304, 31751, 43029, 46142]\n",
      "3\n",
      "[15, 25, 46, 84, 95, 111, 140, 143, 165, 176, 182, 192, 239, 272, 394, 395, 398, 400, 408, 505, 510, 576, 647, 818, 837, 923, 996, 1042, 1219, 1270, 1367, 1699, 1902, 1912, 1938, 2031, 2077, 2128, 2138, 2319, 2483, 2571, 2581, 2588, 4773, 4774, 5202, 8080, 15579, 18475]\n",
      "4\n",
      "[1, 8, 13, 34, 58, 66, 105, 377, 403, 405, 441, 577, 677, 779, 889, 909, 954, 1220, 1334, 1426, 1502, 1582, 1590, 1772, 1825, 1849, 2081, 2208, 2258, 2370, 2399, 2425, 2481, 2501, 2531, 2538, 2555, 2771, 2778, 2813, 3717, 4097, 4209, 4217, 4522, 4569, 4775, 4776, 4777, 4778, 4779, 4780, 4781, 4782, 4783, 4784, 4785, 4786, 4787, 4788, 4789, 4790, 4791, 4792, 4793, 4794, 4795, 4796, 4797, 4798, 4799, 4800, 4801, 4802, 4803, 4804, 4805, 4806, 4807, 4808, 4809, 4810, 4811, 4812, 4813, 4814, 4815, 4816, 4817, 4818, 4819, 4820, 4821, 4822, 4823, 4824, 4825, 4826, 4827, 4828, 4829, 4830, 4831, 4832, 4833, 4834, 4835, 4836, 4837, 4838, 4839, 4840, 4841, 4842, 4843, 4844, 4845, 4846, 4847, 4848, 4849, 4850, 4851, 4852, 4853, 4854, 4855, 4856, 4857, 4858, 4859, 4860, 4861, 4862, 4863, 4864, 4865, 4866, 4867, 4868, 4869, 4870, 4871, 4872, 4873, 4874, 4875, 4876, 4877, 4878, 4879, 4880, 4881, 4882, 4883, 4884, 4885, 4886, 4887, 4888, 4889, 4890, 4891, 4892, 4893, 4894, 4895, 4896, 4897, 4898, 4899, 4900, 4901, 4902, 4903, 4904, 4905, 4906, 4907, 4908, 4909, 4910, 4911, 4912, 4913, 4914, 4915, 4916, 4917, 4918, 4919, 4997, 7106, 10082, 10485, 10506, 10509, 10733, 16932, 17340, 24817, 26302]\n",
      "time: 2.08 ms\n"
     ]
    }
   ],
   "source": [
    "for k,v in users_master_list[5].friends.items():\n",
    "    print(k)\n",
    "    print(v)"
   ]
  },
  {
   "cell_type": "code",
   "execution_count": 15,
   "metadata": {
    "collapsed": false
   },
   "outputs": [
    {
     "name": "stdout",
     "output_type": "stream",
     "text": [
      "time: 685 µs\n"
     ]
    }
   ],
   "source": [
    "tst = User(0, partners[0])"
   ]
  },
  {
   "cell_type": "code",
   "execution_count": 16,
   "metadata": {
    "collapsed": false
   },
   "outputs": [
    {
     "ename": "AttributeError",
     "evalue": "'User' object has no attribute 'partners'",
     "output_type": "error",
     "traceback": [
      "\u001b[0;31m---------------------------------------------------------------------------\u001b[0m",
      "\u001b[0;31mAttributeError\u001b[0m                            Traceback (most recent call last)",
      "\u001b[0;32m<ipython-input-16-aa4f8ed46840>\u001b[0m in \u001b[0;36m<module>\u001b[0;34m()\u001b[0m\n\u001b[0;32m----> 1\u001b[0;31m \u001b[0mtst\u001b[0m\u001b[0;34m.\u001b[0m\u001b[0mpartners\u001b[0m\u001b[0;34m\u001b[0m\u001b[0m\n\u001b[0m",
      "\u001b[0;31mAttributeError\u001b[0m: 'User' object has no attribute 'partners'"
     ]
    },
    {
     "name": "stdout",
     "output_type": "stream",
     "text": [
      "time: 4.46 ms\n"
     ]
    }
   ],
   "source": [
    "tst.partners"
   ]
  },
  {
   "cell_type": "code",
   "execution_count": null,
   "metadata": {
    "collapsed": true
   },
   "outputs": [],
   "source": []
  },
  {
   "cell_type": "code",
   "execution_count": 29,
   "metadata": {
    "collapsed": false
   },
   "outputs": [
    {
     "name": "stdout",
     "output_type": "stream",
     "text": [
      "time: 8.62 ms\n"
     ]
    }
   ],
   "source": [
    "## the tier parameter indicates what degree of friendship we're searching for - need it so we know what existing friends\n",
    "#to account for.\n",
    "def find_new_friends(current_user, new_tier):\n",
    "    \n",
    "    #sanity check in case we incorrectly specify new_tier somewhere else\n",
    "    if new_tier <= 1:\n",
    "        print('Function only works if there are at least some pre-existing friends (choose higher tier)')\n",
    "        return\n",
    "    \n",
    "    #we have to pool together all existing first-degree friends, second-degree, etc.\n",
    "    #by initializing existing_friends with the user themselves, avoid ever adding them to new_friends\n",
    "    existing_friends = [current_user.user_id] \n",
    "    \n",
    "    #don't need to check for redundancy of users in tiers - any given user can only belong to one tier\n",
    "    for key in range(1,new_tier):\n",
    "        existing_friends += current_user.friends[key]\n",
    "    \n",
    "    tentative_new = []\n",
    "    \n",
    "    #for each user who is currently a friend of degree new_tier-1, add all of their first-degree friends to tentative_new\n",
    "    for friend_id in current_user.friends:\n",
    "        tentative_new += user_master_list[friend_id].friends[1] \n",
    "    \n",
    "    tentative_new = list(np.unique(tentative_new)) #get rid of duplicates\n",
    "    #following line returns \n",
    "    new_friends = [ x for x in tentative_new if x not in existing_friends ]\n",
    "    \n",
    "    return new_friends"
   ]
  }
 ],
 "metadata": {
  "kernelspec": {
   "display_name": "Python 3",
   "language": "python",
   "name": "python3"
  },
  "language_info": {
   "codemirror_mode": {
    "name": "ipython",
    "version": 3
   },
   "file_extension": ".py",
   "mimetype": "text/x-python",
   "name": "python",
   "nbconvert_exporter": "python",
   "pygments_lexer": "ipython3",
   "version": "3.5.2"
  }
 },
 "nbformat": 4,
 "nbformat_minor": 0
}
